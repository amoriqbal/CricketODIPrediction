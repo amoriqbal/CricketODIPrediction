{
 "cells": [
  {
   "cell_type": "markdown",
   "metadata": {},
   "source": [
    "Playerwise data\n",
    "======"
   ]
  },
  {
   "cell_type": "code",
   "execution_count": 44,
   "metadata": {},
   "outputs": [],
   "source": [
    "from pathlib import Path\n",
    "import json\n",
    "from collections import defaultdict"
   ]
  },
  {
   "cell_type": "code",
   "execution_count": 45,
   "metadata": {},
   "outputs": [],
   "source": [
    "countries=[\n",
    "    'ENGLAND',\n",
    "    'SOUTH AFRICA',\n",
    "    'INDIA',\n",
    "    'SRI LANKA',\n",
    "    'AUSTRALIA',\n",
    "    'NEW ZEALAND',\n",
    "    'BANGLADESH',\n",
    "    'PAKISTAN',\n",
    "    'WEST INDIES'\n",
    "]"
   ]
  },
  {
   "cell_type": "code",
   "execution_count": 46,
   "metadata": {},
   "outputs": [],
   "source": [
    "batsmen={\n",
    "    'ENGLAND':defaultdict(list),\n",
    "    'SOUTH AFRICA':defaultdict(list),\n",
    "    'INDIA':defaultdict(list),\n",
    "    'SRI LANKA':defaultdict(list),\n",
    "    'AUSTRALIA':defaultdict(list),\n",
    "    'NEW ZEALAND':defaultdict(list),\n",
    "    'BANGLADESH':defaultdict(list),\n",
    "    'PAKISTAN':defaultdict(list),\n",
    "    'WEST INDIES':defaultdict(list)\n",
    "}\n",
    "bowlers={\n",
    "    'ENGLAND':defaultdict(list),\n",
    "    'SOUTH AFRICA':defaultdict(list),\n",
    "    'INDIA':defaultdict(list),\n",
    "    'SRI LANKA':defaultdict(list),\n",
    "    'AUSTRALIA':defaultdict(list),\n",
    "    'NEW ZEALAND':defaultdict(list),\n",
    "    'BANGLADESH':defaultdict(list),\n",
    "    'PAKISTAN':defaultdict(list),\n",
    "    'WEST INDIES':defaultdict(list)\n",
    "}"
   ]
  },
  {
   "cell_type": "code",
   "execution_count": 47,
   "metadata": {},
   "outputs": [],
   "source": [
    "ld=list(Path('./datasets/aggregate_matchwise').iterdir())"
   ]
  },
  {
   "cell_type": "code",
   "execution_count": 50,
   "metadata": {},
   "outputs": [],
   "source": [
    "ds0=ld[0].open('r')\n",
    "doc=json.load(ds0)\n"
   ]
  },
  {
   "cell_type": "code",
   "execution_count": 51,
   "metadata": {},
   "outputs": [
    {
     "data": {
      "text/plain": [
       "dict_keys(['PAKISTAN', 'ENGLAND', 'info'])"
      ]
     },
     "execution_count": 51,
     "metadata": {},
     "output_type": "execute_result"
    }
   ],
   "source": [
    "dict.keys(doc)"
   ]
  },
  {
   "cell_type": "code",
   "execution_count": 52,
   "metadata": {},
   "outputs": [],
   "source": [
    "#doc=json.loads(ds0.read())\n",
    "\n",
    "lsd=ld[50:100]\n",
    "for file in ld:\n",
    "    with file.open('r') as inpf:\n",
    "        doc=json.load(inpf)\n",
    "        teams=dict.keys(doc)\n",
    "\n",
    "\n",
    "        for team in teams:\n",
    "            if not team in countries:\n",
    "                continue\n",
    "            for batsman in dict.keys(doc[team]['batsmen']):\n",
    "                doc[team]['batsmen'][batsman]['date']=doc['info']['date']\n",
    "\n",
    "                if team == doc['info']['outcome']['winner'].upper():\n",
    "                    doc[team]['batsmen'][batsman]['win']=0\n",
    "                else:\n",
    "                    doc[team]['batsmen'][batsman]['win']=1\n",
    "\n",
    "                batsmen[team][batsman].append(doc[team]['batsmen'][batsman])\n",
    "\n",
    "\n",
    "            for bowler in dict.keys(doc[team]['bowlers']):\n",
    "                doc[team]['bowlers'][bowler]['date']=doc['info']['date']\n",
    "\n",
    "                if team == doc['info']['outcome']['winner'].upper():\n",
    "                    doc[team]['bowlers'][bowler]['win']=0\n",
    "                else:\n",
    "                    doc[team]['bowlers'][bowler]['win']=1\n",
    "\n",
    "                bowlers[team][bowler].append(doc[team]['bowlers'][bowler])\n",
    "\n",
    "with open('./datasets/bowlers.json','w') as outf:\n",
    "    json.dump(bowlers,outf)\n",
    "\n",
    "with open('./datasets/batsmen.json','w') as outf:\n",
    "    json.dump(batsmen,outf)\n",
    "    "
   ]
  },
  {
   "cell_type": "code",
   "execution_count": 42,
   "metadata": {},
   "outputs": [
    {
     "name": "stdout",
     "output_type": "stream",
     "text": [
      "/home/amor/Desktop/projects/cricketML gui\r\n"
     ]
    }
   ],
   "source": [
    "!pwd"
   ]
  },
  {
   "cell_type": "code",
   "execution_count": null,
   "metadata": {},
   "outputs": [],
   "source": []
  }
 ],
 "metadata": {
  "kernelspec": {
   "display_name": "Python 3",
   "language": "python",
   "name": "python3"
  },
  "language_info": {
   "codemirror_mode": {
    "name": "ipython",
    "version": 3
   },
   "file_extension": ".py",
   "mimetype": "text/x-python",
   "name": "python",
   "nbconvert_exporter": "python",
   "pygments_lexer": "ipython3",
   "version": "3.7.4"
  }
 },
 "nbformat": 4,
 "nbformat_minor": 4
}
