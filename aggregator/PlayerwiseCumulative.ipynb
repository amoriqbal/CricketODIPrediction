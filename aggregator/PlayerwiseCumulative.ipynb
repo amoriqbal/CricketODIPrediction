{
 "cells": [
  {
   "cell_type": "markdown",
   "metadata": {},
   "source": [
    "Playerwise Cumulative\n",
    "==="
   ]
  },
  {
   "cell_type": "code",
   "execution_count": 10,
   "metadata": {},
   "outputs": [],
   "source": [
    "import json"
   ]
  },
  {
   "cell_type": "code",
   "execution_count": 11,
   "metadata": {},
   "outputs": [],
   "source": [
    "def key(d):\n",
    "    a=str(d['date']).split(\"-\")\n",
    "    assert not a is None\n",
    "    return int(a[0]+a[1]+a[2])"
   ]
  },
  {
   "cell_type": "code",
   "execution_count": 12,
   "metadata": {},
   "outputs": [],
   "source": [
    "#sorting the records\n",
    "with open('./datasets/bowlers.json','r') as inp:\n",
    "    doc=json.load(inp)\n",
    "    for i in dict.keys(doc):\n",
    "        for j in dict.keys(doc[i]):\n",
    "            doc[i][j].sort(key=key)\n",
    "    with open('./datasets/ballsort.json','w') as outf:\n",
    "        json.dump(doc,outf)"
   ]
  },
  {
   "cell_type": "code",
   "execution_count": 55,
   "metadata": {},
   "outputs": [],
   "source": [
    "alpha=0.5"
   ]
  },
  {
   "cell_type": "code",
   "execution_count": 56,
   "metadata": {},
   "outputs": [],
   "source": [
    "#batsmen"
   ]
  },
  {
   "cell_type": "code",
   "execution_count": 57,
   "metadata": {},
   "outputs": [],
   "source": [
    "batstats={}\n",
    "with open('./datasets/batsort.json','r') as inp:\n",
    "    doc=json.load(inp)\n",
    "    for i in dict.keys(doc):\n",
    "        batstats[i]={}\n",
    "        for j in dict.keys(doc[i]):\n",
    "            batstats[i][j]=doc[i][j][0]\n",
    "            for k in range(1,len(doc[i][j])):\n",
    "                for para in ['runs','balls_played','win']:\n",
    "                    batstats[i][j][para]=(batstats[i][j][para]+doc[i][j][k][para]*alpha)/(1+alpha)\n",
    "    with open('./datasets/batcumul.json','w') as outf:\n",
    "        json.dump(batstats,outf)"
   ]
  },
  {
   "cell_type": "code",
   "execution_count": 58,
   "metadata": {},
   "outputs": [],
   "source": [
    "#bowlers"
   ]
  },
  {
   "cell_type": "code",
   "execution_count": 59,
   "metadata": {},
   "outputs": [],
   "source": [
    "\n",
    "batstats={}\n",
    "with open('./datasets/ballsort.json','r') as inp:\n",
    "    doc=json.load(inp)\n",
    "    for i in dict.keys(doc):\n",
    "        batstats[i]={}\n",
    "        for j in dict.keys(doc[i]):\n",
    "            batstats[i][j]=doc[i][j][0]\n",
    "            for k in range(1,len(doc[i][j])):\n",
    "                for para in ['econ','balls_delivered','wickets_taken','win']:\n",
    "                    if not para in list(dict.keys(batstats[i][j])):\n",
    "                        print()\n",
    "                        batstats[i][j][para]=0\n",
    "                    if not para in list(dict.keys(doc[i][j][k])):\n",
    "                        doc[i][j][k][para]=0\n",
    "                    batstats[i][j][para]=(batstats[i][j][para]+doc[i][j][k][para]*alpha)/(1+alpha)\n",
    "    with open('./datasets/ballcumul.json','w') as outf:\n",
    "        json.dump(batstats,outf)"
   ]
  },
  {
   "cell_type": "code",
   "execution_count": 39,
   "metadata": {},
   "outputs": [],
   "source": [
    "wins=[i%2 for i in range(5000)]"
   ]
  },
  {
   "cell_type": "code",
   "execution_count": 53,
   "metadata": {},
   "outputs": [
    {
     "data": {
      "text/plain": [
       "0.6"
      ]
     },
     "execution_count": 53,
     "metadata": {},
     "output_type": "execute_result"
    }
   ],
   "source": [
    "avg=wins[0]\n",
    "a=0.5\n",
    "for i in range(5000):\n",
    "    avg=(avg+wins[i]*a)/(1+a)\n",
    "avg"
   ]
  },
  {
   "cell_type": "code",
   "execution_count": null,
   "metadata": {},
   "outputs": [],
   "source": []
  }
 ],
 "metadata": {
  "kernelspec": {
   "display_name": "Python 3",
   "language": "python",
   "name": "python3"
  },
  "language_info": {
   "codemirror_mode": {
    "name": "ipython",
    "version": 3
   },
   "file_extension": ".py",
   "mimetype": "text/x-python",
   "name": "python",
   "nbconvert_exporter": "python",
   "pygments_lexer": "ipython3",
   "version": "3.7.4"
  }
 },
 "nbformat": 4,
 "nbformat_minor": 4
}
