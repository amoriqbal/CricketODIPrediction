{
 "cells": [
  {
   "cell_type": "markdown",
   "metadata": {},
   "source": [
    "Matchwise-ball_by_ball to Matchwise_aggregate: dset1 to dset2\n",
    "===="
   ]
  },
  {
   "cell_type": "code",
   "execution_count": 1,
   "metadata": {},
   "outputs": [],
   "source": [
    "from pathlib import Path\n",
    "import json\n",
    "from collections import defaultdict"
   ]
  },
  {
   "cell_type": "code",
   "execution_count": 2,
   "metadata": {},
   "outputs": [],
   "source": [
    "def default_batsman():\n",
    "    return {\n",
    "        'runs':0,\n",
    "        'balls_played':0\n",
    "    }\n",
    "def default_bowler():\n",
    "    return {\n",
    "        'balls_delivered':0,\n",
    "        'econ':0,\n",
    "        'wickets':0\n",
    "    }"
   ]
  },
  {
   "cell_type": "code",
   "execution_count": 19,
   "metadata": {},
   "outputs": [],
   "source": [
    "d=Path('./datasets/country_filtered').iterdir()"
   ]
  },
  {
   "cell_type": "code",
   "execution_count": 20,
   "metadata": {},
   "outputs": [
    {
     "data": {
      "text/plain": [
       "991"
      ]
     },
     "execution_count": 20,
     "metadata": {},
     "output_type": "execute_result"
    }
   ],
   "source": [
    "ld=list(d)\n",
    "len(ld)"
   ]
  },
  {
   "cell_type": "code",
   "execution_count": 21,
   "metadata": {},
   "outputs": [],
   "source": [
    "dsh=ld[0:50]\n",
    "with ld[0].open('r') as f:\n",
    "    ds0=json.load(f)"
   ]
  },
  {
   "cell_type": "code",
   "execution_count": 22,
   "metadata": {},
   "outputs": [],
   "source": [
    "for f in ld:\n",
    "    with f.open('r') as inpf:\n",
    "        ds0=json.load(inpf)\n",
    "        stats={}\n",
    "        with open('./datasets/aggregate_matchwise/'+str(ds0['info']['date'])+'.json','w') as outf:\n",
    "            inn1=ds0['innings'][0]['1st innings']['deliveries']\n",
    "            batsmen={}\n",
    "            bowlers={}\n",
    "            for i in range(len(inn1)):\n",
    "                i\n",
    "                ball=list(dict.values(inn1[i]))[0]\n",
    "                if not ball['batsman'] in batsmen:\n",
    "                    batsmen[ball['batsman']]=defaultdict(int)\n",
    "\n",
    "                if not ball['bowler'] in bowlers:\n",
    "                    bowlers[ball['bowler']]=defaultdict(int)\n",
    "                batsmen[ball['batsman']]['runs'] += ball['runs']['total']\n",
    "                batsmen[ball['batsman']]['balls_played'] += 1\n",
    "                bowlers[ball['bowler']]['balls_delivered'] += 1\n",
    "                bowlers[ball['bowler']]['econ'] += ball['runs']['total']\n",
    "                if 'wicket' in ball:\n",
    "                    bowlers[ball['bowler']]['wickets_taken'] += 1\n",
    "            stats[ds0['innings'][0]['1st innings']['team'].upper()]={'batsmen':batsmen, 'bowlers':bowlers}\n",
    "\n",
    "            inn1=ds0['innings'][1]['2nd innings']['deliveries']\n",
    "            batsmen={}\n",
    "            bowlers={}\n",
    "            for i in range(len(inn1)):\n",
    "                i\n",
    "                ball=list(dict.values(inn1[i]))[0]\n",
    "                if not ball['batsman'] in batsmen:\n",
    "                    batsmen[ball['batsman']]=defaultdict(int)\n",
    "\n",
    "                if not ball['bowler'] in bowlers:\n",
    "                    bowlers[ball['bowler']]=defaultdict(int)\n",
    "                batsmen[ball['batsman']]['runs'] += ball['runs']['total']\n",
    "                batsmen[ball['batsman']]['balls_played'] += 1\n",
    "                bowlers[ball['bowler']]['balls_delivered'] += 1\n",
    "                bowlers[ball['bowler']]['econ'] += ball['runs']['total']\n",
    "                if 'wicket' in ball:\n",
    "                    bowlers[ball['bowler']]['wickets_taken'] += 1\n",
    "            stats[ds0['innings'][1]['2nd innings']['team'].upper()]={'batsmen':batsmen, 'bowlers':bowlers}\n",
    "\n",
    "            stats['info']=ds0['info']\n",
    "\n",
    "            json.dump(stats,outf)\n",
    "\n"
   ]
  },
  {
   "cell_type": "code",
   "execution_count": null,
   "metadata": {},
   "outputs": [],
   "source": []
  },
  {
   "cell_type": "code",
   "execution_count": null,
   "metadata": {},
   "outputs": [],
   "source": []
  }
 ],
 "metadata": {
  "kernelspec": {
   "display_name": "Python 3",
   "language": "python",
   "name": "python3"
  },
  "language_info": {
   "codemirror_mode": {
    "name": "ipython",
    "version": 3
   },
   "file_extension": ".py",
   "mimetype": "text/x-python",
   "name": "python",
   "nbconvert_exporter": "python",
   "pygments_lexer": "ipython3",
   "version": "3.7.4"
  }
 },
 "nbformat": 4,
 "nbformat_minor": 4
}
