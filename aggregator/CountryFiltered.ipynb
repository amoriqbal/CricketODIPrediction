{
 "cells": [
  {
   "cell_type": "markdown",
   "metadata": {},
   "source": [
    "Filter Dataset by top 9 Countries: dset0 to dset1\n",
    "===="
   ]
  },
  {
   "cell_type": "code",
   "execution_count": 1,
   "metadata": {},
   "outputs": [],
   "source": [
    "from pathlib import Path\n",
    "import yaml\n",
    "import json"
   ]
  },
  {
   "cell_type": "code",
   "execution_count": 2,
   "metadata": {},
   "outputs": [],
   "source": [
    "countries=[\n",
    "    'ENGLAND',\n",
    "    'SOUTH AFRICA',\n",
    "    'INDIA',\n",
    "    'SRI LANKA',\n",
    "    'AUSTRALIA',\n",
    "    'NEW ZEALAND',\n",
    "    'BANGLADESH',\n",
    "    'PAKISTAN',\n",
    "    'WEST INDIES'\n",
    "]"
   ]
  },
  {
   "cell_type": "code",
   "execution_count": 3,
   "metadata": {},
   "outputs": [],
   "source": [
    "d=Path('./datasets/matches').iterdir()"
   ]
  },
  {
   "cell_type": "code",
   "execution_count": 4,
   "metadata": {},
   "outputs": [],
   "source": [
    "ld=list(d)"
   ]
  },
  {
   "cell_type": "code",
   "execution_count": 5,
   "metadata": {},
   "outputs": [],
   "source": [
    "fd0=ld[0].open('r')"
   ]
  },
  {
   "cell_type": "code",
   "execution_count": 6,
   "metadata": {},
   "outputs": [
    {
     "data": {
      "text/plain": [
       "['New Zealand', 'West Indies']"
      ]
     },
     "execution_count": 6,
     "metadata": {},
     "output_type": "execute_result"
    }
   ],
   "source": [
    "yt=yaml.full_load(fd0)\n",
    "yt['info']['teams']"
   ]
  },
  {
   "cell_type": "code",
   "execution_count": 7,
   "metadata": {},
   "outputs": [
    {
     "data": {
      "text/plain": [
       "{'winner': 'New Zealand', 'by': {'runs': 204}}"
      ]
     },
     "execution_count": 7,
     "metadata": {},
     "output_type": "execute_result"
    }
   ],
   "source": [
    "yt['info']['outcome']"
   ]
  },
  {
   "cell_type": "code",
   "execution_count": 8,
   "metadata": {},
   "outputs": [
    {
     "data": {
      "text/plain": [
       "True"
      ]
     },
     "execution_count": 8,
     "metadata": {},
     "output_type": "execute_result"
    }
   ],
   "source": [
    "ld[0].is_file()"
   ]
  },
  {
   "cell_type": "code",
   "execution_count": 9,
   "metadata": {},
   "outputs": [],
   "source": [
    "dsh=ld"
   ]
  },
  {
   "cell_type": "markdown",
   "metadata": {},
   "source": [
    "**The following code extracts the relevant data and stores them in folder datasets/country_filtered**\n",
    " - Consider the top 9 countries data only\n",
    " - Ignore matches that did not have a decicive conslusion\n",
    " - Consider only male matches"
   ]
  },
  {
   "cell_type": "code",
   "execution_count": 11,
   "metadata": {},
   "outputs": [
    {
     "name": "stdout",
     "output_type": "stream",
     "text": [
      "README.txt\n",
      "string indices must be integers\n"
     ]
    }
   ],
   "source": [
    "for filepath in dsh:\n",
    "    try:\n",
    "        if filepath.is_file():\n",
    "            with filepath.open('r') as fd:\n",
    "                doc=yaml.full_load(fd)\n",
    "                if not 'winner' in doc['info']['outcome']:\n",
    "                    continue\n",
    "                \n",
    "                if doc['info']['gender'] !='male':\n",
    "                    continue\n",
    "                    \n",
    "                if doc['info']['teams'][0].upper() in countries and doc['info']['teams'][1].upper() in countries:\n",
    "                    with open('./datasets/country_filtered/'+str(doc['info']['dates'][0])+'.json','w') as outf:\n",
    "\n",
    "                        doc['info']['date']=str(doc['info']['dates'][0])\n",
    "                        doc['info']['dates']=None\n",
    "                        doc['meta']=None\n",
    "                        outf.write(json.dumps(doc))\n",
    "    except Exception as e:\n",
    "        print(filepath.name)\n",
    "        print(e)\n",
    "                \n",
    "            "
   ]
  },
  {
   "cell_type": "code",
   "execution_count": null,
   "metadata": {},
   "outputs": [],
   "source": []
  }
 ],
 "metadata": {
  "kernelspec": {
   "display_name": "Python 3",
   "language": "python",
   "name": "python3"
  },
  "language_info": {
   "codemirror_mode": {
    "name": "ipython",
    "version": 3
   },
   "file_extension": ".py",
   "mimetype": "text/x-python",
   "name": "python",
   "nbconvert_exporter": "python",
   "pygments_lexer": "ipython3",
   "version": "3.7.4"
  }
 },
 "nbformat": 4,
 "nbformat_minor": 4
}
